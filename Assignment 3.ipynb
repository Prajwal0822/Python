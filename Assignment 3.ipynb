{
 "cells": [
  {
   "cell_type": "markdown",
   "metadata": {},
   "source": [
    "# 1.1 Write a Python Program to implement your own myreduce() function which works exactly  like Python's built-in function reduce()"
   ]
  },
  {
   "cell_type": "markdown",
   "metadata": {},
   "source": [
    "## Built-in reduce() function"
   ]
  },
  {
   "cell_type": "code",
   "execution_count": 17,
   "metadata": {},
   "outputs": [
    {
     "data": {
      "text/plain": [
       "6"
      ]
     },
     "execution_count": 17,
     "metadata": {},
     "output_type": "execute_result"
    }
   ],
   "source": [
    "from functools import reduce\n",
    "reduce(lambda x, y: x+y, [1, 2, 3])\n"
   ]
  },
  {
   "cell_type": "code",
   "execution_count": 13,
   "metadata": {},
   "outputs": [],
   "source": [
    "def myreduce(func, list):\n",
    "    res = list[0] \n",
    "    for i in list[1:]:\n",
    "        res = func(res, i)\n",
    "\n",
    "    return res"
   ]
  },
  {
   "cell_type": "code",
   "execution_count": 15,
   "metadata": {},
   "outputs": [],
   "source": [
    "def sum(x,y): return x + y"
   ]
  },
  {
   "cell_type": "code",
   "execution_count": 14,
   "metadata": {},
   "outputs": [
    {
     "name": "stdout",
     "output_type": "stream",
     "text": [
      "Sum on list [1,2,3] using custom reduce function 6\n"
     ]
    }
   ],
   "source": [
    "print (\"Sum on list [1,2,3] using custom reduce function \"   + str(myreduce(sum, [1,2,3])) )"
   ]
  },
  {
   "cell_type": "markdown",
   "metadata": {},
   "source": [
    "# 1.2 Write a Python program to implement your own myfilter() function which works exactly  like Python's built-in function filter() "
   ]
  },
  {
   "cell_type": "code",
   "execution_count": 45,
   "metadata": {},
   "outputs": [],
   "source": [
    "def myfilter(func, list):\n",
    "    result = []\n",
    "    for i in list:\n",
    "        if func(i):\n",
    "            result.append(i)\n",
    "            \n",
    "    return result"
   ]
  },
  {
   "cell_type": "code",
   "execution_count": 46,
   "metadata": {},
   "outputs": [],
   "source": [
    "def bool(x):\n",
    "    if (x <= 0): \n",
    "        return False \n",
    "    else: \n",
    "        return True"
   ]
  },
  {
   "cell_type": "code",
   "execution_count": 56,
   "metadata": {},
   "outputs": [
    {
     "name": "stdout",
     "output_type": "stream",
     "text": [
      "Filter only positive Integers on list [0,1,-2,3,4,5] using custom filter function[1, 3, 4, 5]\n"
     ]
    }
   ],
   "source": [
    "print (\"Filter only positive Integers on list [0,1,-2,3,4,5] using custom filter function\"  + str(myfilter(bool, [0,1,-2,3,4,5])))"
   ]
  },
  {
   "cell_type": "markdown",
   "metadata": {},
   "source": [
    "# 2. Implement List comprehensions to produce the following lists.  \n",
    "Write List comprehensions to produce the following Lists \n",
    "['A', 'C', 'A', 'D', 'G', 'I', ’L’, ‘ D’] \n",
    "['x', 'xx', 'xxx', 'xxxx', 'y', 'yy', 'yyy', 'yyyy', 'z', 'zz', 'zzz', 'zzzz']  \n",
    "['x', 'y', 'z', 'xx', 'yy', 'zz', 'xxx', 'yyy', 'zzz', 'xxxx', 'yyyy', 'zzzz']  \n",
    "[[2], [3], [4], [3], [4], [5], [4], [5], [6]] [[2, 3, 4, 5], [3, 4, 5, 6],  \n",
    "[4, 5, 6, 7], [5, 6, 7, 8]]\n"
   ]
  },
  {
   "cell_type": "code",
   "execution_count": 58,
   "metadata": {},
   "outputs": [
    {
     "name": "stdout",
     "output_type": "stream",
     "text": [
      "['A', 'C', 'A', 'D', 'G', 'I', 'L', 'D']\n"
     ]
    }
   ],
   "source": [
    "word=\"AcadGild\"\n",
    "output_list = [i.upper() for i in list(word)]\n",
    "print(output_list)"
   ]
  },
  {
   "cell_type": "code",
   "execution_count": 61,
   "metadata": {},
   "outputs": [
    {
     "name": "stdout",
     "output_type": "stream",
     "text": [
      "['x', 'xx', 'xxx', 'xxxx', 'y', 'yy', 'yyy', 'yyyy', 'z', 'zz', 'zzz', 'zzzz', 'a', 'aa', 'aaa', 'aaaa']\n"
     ]
    }
   ],
   "source": [
    "b = [i*j for j in [\"x\",\"y\",\"z\"] for i in range(1,5)]\n",
    "print(b)"
   ]
  },
  {
   "cell_type": "code",
   "execution_count": 62,
   "metadata": {},
   "outputs": [
    {
     "name": "stdout",
     "output_type": "stream",
     "text": [
      "['x', 'y', 'z', 'xx', 'yy', 'zz', 'xxx', 'yyy', 'zzz', 'xxxx', 'yyyy', 'zzzz']\n"
     ]
    }
   ],
   "source": [
    "b = [i*j  for i in range(1,5) for j in [\"x\",\"y\",\"z\"]]\n",
    "print(b)"
   ]
  },
  {
   "cell_type": "code",
   "execution_count": 65,
   "metadata": {},
   "outputs": [
    {
     "name": "stdout",
     "output_type": "stream",
     "text": [
      "[[2], [3], [4], [3], [4], [5], [4], [5], [6]]\n"
     ]
    }
   ],
   "source": [
    "d = [[j] for i in range(2,5) for j in range(i,i+3)]\n",
    "print(d)"
   ]
  },
  {
   "cell_type": "code",
   "execution_count": 73,
   "metadata": {},
   "outputs": [
    {
     "name": "stdout",
     "output_type": "stream",
     "text": [
      "[[2, 3, 4, 5], [3, 4, 5, 6], [4, 5, 6, 7], [5, 6, 7, 8]]\n"
     ]
    }
   ],
   "source": [
    "a = [2,3,4,5]\n",
    "b = [[i+j for j in range(0,4)] for i in range(2,6)]\n",
    "print(b)"
   ]
  },
  {
   "cell_type": "code",
   "execution_count": 76,
   "metadata": {},
   "outputs": [
    {
     "name": "stdout",
     "output_type": "stream",
     "text": [
      "[(1, 1), (2, 1), (3, 1), (1, 2), (2, 2), (3, 2), (1, 3), (2, 3), (3, 3)]\n"
     ]
    }
   ],
   "source": [
    "c=[1,2,3]\n",
    "d= [(b,a) for a in c for b in c]\n",
    "print(d)"
   ]
  }
 ],
 "metadata": {
  "kernelspec": {
   "display_name": "gputest",
   "language": "python",
   "name": "gputest"
  },
  "language_info": {
   "codemirror_mode": {
    "name": "ipython",
    "version": 3
   },
   "file_extension": ".py",
   "mimetype": "text/x-python",
   "name": "python",
   "nbconvert_exporter": "python",
   "pygments_lexer": "ipython3",
   "version": "3.7.9"
  }
 },
 "nbformat": 4,
 "nbformat_minor": 4
}
